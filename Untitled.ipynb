{
 "cells": [
  {
   "cell_type": "code",
   "execution_count": null,
   "id": "37624da0",
   "metadata": {},
   "outputs": [],
   "source": [
    "from PIL import Image\n",
    "from tensorflow.keras.applications.mobilenet import MobileNet\n",
    "from tensorflow.keras.applications.mobilenet import preprocess_input, decode_predictions\n",
    "import numpy as np\n",
    "from skimage.transform import resize\n"
   ]
  },
  {
   "cell_type": "code",
   "execution_count": null,
   "id": "123545f4",
   "metadata": {},
   "outputs": [],
   "source": [
    "def classifierMobileNet(img_path, tope):\n",
    "    model = MobileNet()  # model de image net\n",
    "    img = np.asarray(Image.open(img_path))  # image de l'entree ou bien de produit choisit\n",
    "    img = resize(img, [224, 224])  # redimensionner l'image a 224*224\n",
    "    X = np.reshape(img, [1, 224, 224, 3])  # redemensionner\n",
    "    preds = model.predict(X)  # predir des resultats\n",
    "    produits_predits = decode_predictions(preds, top=tope)\n",
    "    return produits_predits\n",
    "\n",
    "print(\"hello world\")"
   ]
  },
  {
   "cell_type": "code",
   "execution_count": null,
   "id": "75994eb0",
   "metadata": {},
   "outputs": [],
   "source": [
    "img_path=\"C:/Users/Gamers DU NORD/Downloads/test1.jpg\"\n"
   ]
  },
  {
   "cell_type": "code",
   "execution_count": null,
   "id": "76a655f6",
   "metadata": {},
   "outputs": [],
   "source": []
  },
  {
   "cell_type": "code",
   "execution_count": null,
   "id": "0a8d531f",
   "metadata": {},
   "outputs": [],
   "source": [
    "mobile = MobileNet()\n",
    "Image(filename=img_path, width=250,height=300)"
   ]
  },
  {
   "cell_type": "code",
   "execution_count": null,
   "id": "7c5c9bc0",
   "metadata": {},
   "outputs": [],
   "source": [
    "++++++++++++++++++++++++++++++"
   ]
  },
  {
   "cell_type": "code",
   "execution_count": null,
   "id": "957381af",
   "metadata": {},
   "outputs": [],
   "source": [
    "import tensorflow as tf\n",
    "import numpy as np\n",
    "from tensorflow.keras.preprocessing import image\n",
    "import matplotlib.pyplot as plt\n",
    "from tensorflow.keras.applications import imagenet_utils\n",
    "\n",
    "from tensorflow.keras.applications.mobilenet import MobileNet\n",
    "from tensorflow.keras.applications.mobilenet import preprocess_input, decode_predictions"
   ]
  },
  {
   "cell_type": "code",
   "execution_count": null,
   "id": "9086a454",
   "metadata": {},
   "outputs": [],
   "source": [
    "filename =\"C:/Users/Gamers DU NORD/Downloads/test1.jpg\"\n",
    "img = image.load_img(filename,target_size=(224,224))\n",
    "plt.imshow(img)"
   ]
  },
  {
   "cell_type": "code",
   "execution_count": null,
   "id": "e459b2d6",
   "metadata": {},
   "outputs": [],
   "source": [
    "model = MobileNet()\n",
    "\n",
    "results = decode_predictions(predictions)# decode_predictions() method is used.\n",
    "\n",
    "print(results)"
   ]
  },
  {
   "cell_type": "code",
   "execution_count": null,
   "id": "067cb31d",
   "metadata": {},
   "outputs": [],
   "source": []
  },
  {
   "cell_type": "code",
   "execution_count": null,
   "id": "1b8232f3",
   "metadata": {},
   "outputs": [],
   "source": []
  },
  {
   "cell_type": "code",
   "execution_count": null,
   "id": "be12d7dc",
   "metadata": {},
   "outputs": [],
   "source": []
  },
  {
   "cell_type": "code",
   "execution_count": null,
   "id": "eec1a556",
   "metadata": {},
   "outputs": [],
   "source": []
  },
  {
   "cell_type": "code",
   "execution_count": null,
   "id": "1003960f",
   "metadata": {},
   "outputs": [],
   "source": []
  },
  {
   "cell_type": "code",
   "execution_count": null,
   "id": "491de142",
   "metadata": {},
   "outputs": [],
   "source": []
  },
  {
   "cell_type": "code",
   "execution_count": null,
   "id": "d8c4e39e",
   "metadata": {},
   "outputs": [],
   "source": []
  },
  {
   "cell_type": "code",
   "execution_count": 22,
   "id": "70cd8409",
   "metadata": {},
   "outputs": [],
   "source": [
    "import tensorflow as tf\n",
    "import numpy as np\n",
    "from tensorflow.keras.preprocessing import image\n",
    "import matplotlib.pyplot as plt\n",
    "from tensorflow.keras.applications import imagenet_utils\n",
    "from IPython.display import Image\n",
    "\n",
    "def classifierMobileNet(img_path): \n",
    "    Image(filename,width=224,height=224)\n",
    "    img = image.load_img(filename,target_size=(224,224))\n",
    "    model = tf.keras.applications.mobilenet_v2.MobileNetV2()\n",
    "    resizedimg = image.img_to_array(img)\n",
    "    finalimg = np.expand_dims(resizedimg,axis=0)\n",
    "    finalimg = tf.keras.applications.mobilenet_v2.preprocess_input(finalimg)\n",
    "    finalimg.shape\n",
    "    predictions = model.predict(finalimg)\n",
    "    results = imagenet_utils.decode_predictions(predictions)\n",
    "    return results[0][0][1]\n"
   ]
  },
  {
   "cell_type": "code",
   "execution_count": 23,
   "id": "340e2f29",
   "metadata": {},
   "outputs": [
    {
     "name": "stdout",
     "output_type": "stream",
     "text": [
      "1/1 [==============================] - 2s 2s/step\n"
     ]
    }
   ],
   "source": [
    "filename =\"C:/Users/Gamers DU NORD/Downloads/test1.jpg\"\n",
    "p=classifierMobileNet(filename)"
   ]
  },
  {
   "cell_type": "code",
   "execution_count": 24,
   "id": "541d42e6",
   "metadata": {},
   "outputs": [
    {
     "data": {
      "text/plain": [
       "'television'"
      ]
     },
     "execution_count": 24,
     "metadata": {},
     "output_type": "execute_result"
    }
   ],
   "source": [
    "p"
   ]
  },
  {
   "cell_type": "code",
   "execution_count": null,
   "id": "1568ec0c",
   "metadata": {},
   "outputs": [],
   "source": []
  }
 ],
 "metadata": {
  "kernelspec": {
   "display_name": "Python 3 (ipykernel)",
   "language": "python",
   "name": "python3"
  },
  "language_info": {
   "codemirror_mode": {
    "name": "ipython",
    "version": 3
   },
   "file_extension": ".py",
   "mimetype": "text/x-python",
   "name": "python",
   "nbconvert_exporter": "python",
   "pygments_lexer": "ipython3",
   "version": "3.10.11"
  }
 },
 "nbformat": 4,
 "nbformat_minor": 5
}
